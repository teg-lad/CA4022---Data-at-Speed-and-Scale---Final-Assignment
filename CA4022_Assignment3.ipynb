{
  "nbformat": 4,
  "nbformat_minor": 0,
  "metadata": {
    "colab": {
      "provenance": []
    },
    "kernelspec": {
      "name": "python3",
      "display_name": "Python 3"
    },
    "language_info": {
      "name": "python"
    }
  },
  "cells": [
    {
      "cell_type": "code",
      "execution_count": 1,
      "metadata": {
        "colab": {
          "base_uri": "https://localhost:8080/"
        },
        "id": "G5c4ozFyWWAa",
        "outputId": "6c67fe3c-27de-4528-bddb-12111c68cc71"
      },
      "outputs": [
        {
          "output_type": "stream",
          "name": "stdout",
          "text": [
            "Looking in indexes: https://pypi.org/simple, https://us-python.pkg.dev/colab-wheels/public/simple/\n",
            "Collecting pyspark\n",
            "  Downloading pyspark-3.3.1.tar.gz (281.4 MB)\n",
            "\u001b[K     |████████████████████████████████| 281.4 MB 47 kB/s \n",
            "\u001b[?25hCollecting py4j==0.10.9.5\n",
            "  Downloading py4j-0.10.9.5-py2.py3-none-any.whl (199 kB)\n",
            "\u001b[K     |████████████████████████████████| 199 kB 44.1 MB/s \n",
            "\u001b[?25hBuilding wheels for collected packages: pyspark\n",
            "  Building wheel for pyspark (setup.py) ... \u001b[?25l\u001b[?25hdone\n",
            "  Created wheel for pyspark: filename=pyspark-3.3.1-py2.py3-none-any.whl size=281845512 sha256=1dc470ff63779647f9a386160cba2e89601a49c9c7721cdad6efc552896ba13c\n",
            "  Stored in directory: /root/.cache/pip/wheels/43/dc/11/ec201cd671da62fa9c5cc77078235e40722170ceba231d7598\n",
            "Successfully built pyspark\n",
            "Installing collected packages: py4j, pyspark\n",
            "Successfully installed py4j-0.10.9.5 pyspark-3.3.1\n"
          ]
        }
      ],
      "source": [
        "!pip3 install pyspark"
      ]
    },
    {
      "cell_type": "markdown",
      "source": [
        "Import Libraries"
      ],
      "metadata": {
        "id": "A2miOV3LgtV6"
      }
    },
    {
      "cell_type": "code",
      "source": [
        "from pyspark.ml.evaluation import RegressionEvaluator\n",
        "from pyspark.ml.recommendation import ALS\n",
        "\n",
        "from pyspark.sql import SparkSession"
      ],
      "metadata": {
        "id": "_xFY4XdqY0cT"
      },
      "execution_count": 2,
      "outputs": []
    },
    {
      "cell_type": "markdown",
      "source": [
        "Initialise Spark Session"
      ],
      "metadata": {
        "id": "xGq4tUiqgvyG"
      }
    },
    {
      "cell_type": "code",
      "source": [
        "spark = SparkSession.builder.appName(\"amazon_reviews_test\").getOrCreate()\n"
      ],
      "metadata": {
        "id": "Tln_BV5qWiTw"
      },
      "execution_count": 3,
      "outputs": []
    },
    {
      "cell_type": "markdown",
      "source": [
        "Read subset of data in."
      ],
      "metadata": {
        "id": "rHY2qR3wg08V"
      }
    },
    {
      "cell_type": "code",
      "source": [
        "df = spark.read.options(delimiter='\\t').csv('/content/drive/MyDrive/amazon_short.tsv', inferSchema=True, header=True)"
      ],
      "metadata": {
        "id": "a_gh42HJZYnM"
      },
      "execution_count": 5,
      "outputs": []
    },
    {
      "cell_type": "code",
      "source": [
        "df.show(5)"
      ],
      "metadata": {
        "colab": {
          "base_uri": "https://localhost:8080/"
        },
        "id": "oaejdJkEaEsF",
        "outputId": "1bf023c8-2e98-42ba-cc0e-469e8d780b1e"
      },
      "execution_count": 6,
      "outputs": [
        {
          "output_type": "stream",
          "name": "stdout",
          "text": [
            "+-----------+-----------+--------------+----------+--------------+--------------------+----------------+------+-------------+-----------+\n",
            "|marketplace|customer_id|     review_id|product_id|product_parent|       product_title|product_category|rating|helpful_votes|total_votes|\n",
            "+-----------+-----------+--------------+----------+--------------+--------------------+----------------+------+-------------+-----------+\n",
            "|         US|   12068140|R341Z2FE4RPDY8|0786868821|     913926982|Cad: Confessions ...|           Books|     1|            2|          3|\n",
            "|         US|   12068447|R1XHTJ69WFA79N|0240807316|     209406469|Sports Media:  Re...|           Books|     5|            8|          8|\n",
            "|         US|   12069735|R3GBNWUL5TX127|B0009A0GXW|     355154473|The Secret Goldfi...|           Books|     5|            3|          3|\n",
            "|         US|   12070636|R3VK6TOXURV3Q2|0316107719|     529689635|The Baby Sleep Bo...|           Books|     3|          111|        120|\n",
            "|         US|   12070768| R5SZVXLZOMZLH|B0007QC2FS|     146083286|Firehouse Food: C...|           Books|     5|            6|          6|\n",
            "+-----------+-----------+--------------+----------+--------------+--------------------+----------------+------+-------------+-----------+\n",
            "only showing top 5 rows\n",
            "\n"
          ]
        }
      ]
    },
    {
      "cell_type": "code",
      "source": [
        "df.describe().show()"
      ],
      "metadata": {
        "colab": {
          "base_uri": "https://localhost:8080/"
        },
        "id": "U2mc5l-MaZ9C",
        "outputId": "a3767d28-5949-45fb-a97c-2daba497badc"
      },
      "execution_count": 7,
      "outputs": [
        {
          "output_type": "stream",
          "name": "stdout",
          "text": [
            "+-------+-----------+-----------------+--------------+--------------------+--------------------+------------------------------+----------------+------------------+------------------+-----------------+\n",
            "|summary|marketplace|      customer_id|     review_id|          product_id|      product_parent|                 product_title|product_category|            rating|     helpful_votes|      total_votes|\n",
            "+-------+-----------+-----------------+--------------+--------------------+--------------------+------------------------------+----------------+------------------+------------------+-----------------+\n",
            "|  count|      29998|            29998|         29998|               29998|               29998|                         29998|           29998|             29998|             29998|            29998|\n",
            "|   mean|       null|5206875.412727515|          null|1.0196748957946323E9| 4.925178649852657E8|                        1569.5|            null| 4.329588639242616|2.7935862390826056|4.541102740182679|\n",
            "| stddev|       null|5586579.049489104|          null|1.1300922575767195E9|2.8809283336612475E8|             775.8478587970711|            null|1.2245932114979932|11.384127372589887| 15.9764812189437|\n",
            "|    min|         US|            10114|R1002Y3XF0RVOG|          0002007908|                6430|          \"Blood Splatter\" ...|           Books|                 1|                 0|                0|\n",
            "|    max|         US|         13863445| RZZV0XMUXFM9R|          B014KXMM94|           999867728|【New 3DS対応】ブルーライト...|     Video Games|                 5|              1038|             1248|\n",
            "+-------+-----------+-----------------+--------------+--------------------+--------------------+------------------------------+----------------+------------------+------------------+-----------------+\n",
            "\n"
          ]
        }
      ]
    },
    {
      "cell_type": "markdown",
      "source": [
        "Split data into train and test"
      ],
      "metadata": {
        "id": "aCknprCrg8ZD"
      }
    },
    {
      "cell_type": "code",
      "source": [
        "train, test = df.randomSplit([0.8, 0.2], seed=42)"
      ],
      "metadata": {
        "id": "feNtVkRbaxIx"
      },
      "execution_count": 8,
      "outputs": []
    },
    {
      "cell_type": "markdown",
      "source": [
        "Build ALS model.\n",
        "\n",
        "itemCol is an interesting problem. Values have to be numeric so we can't use product_id as is.\n",
        "\n",
        "coldStartStrategy = 'drop' means to drop new users as they have no reference to recommend.\n"
      ],
      "metadata": {
        "id": "U53kpWj6g_Rd"
      }
    },
    {
      "cell_type": "code",
      "source": [
        "als = ALS(maxIter=10, regParam=0.3, userCol=\"customer_id\", itemCol=\"product_parent\", ratingCol='rating', coldStartStrategy='drop')"
      ],
      "metadata": {
        "id": "aKVy-UYga3i_"
      },
      "execution_count": 47,
      "outputs": []
    },
    {
      "cell_type": "code",
      "source": [
        "model = als.fit(train)"
      ],
      "metadata": {
        "id": "Ul1OcLm9bRZl"
      },
      "execution_count": 48,
      "outputs": []
    },
    {
      "cell_type": "code",
      "source": [
        "pred = model.transform(test)"
      ],
      "metadata": {
        "id": "yRTwW6rwbUea"
      },
      "execution_count": 49,
      "outputs": []
    },
    {
      "cell_type": "code",
      "source": [
        "pred.show(10)"
      ],
      "metadata": {
        "colab": {
          "base_uri": "https://localhost:8080/"
        },
        "id": "Z6QnB6SAcL3x",
        "outputId": "f214c27b-c040-44ea-cc80-47ded103d17e"
      },
      "execution_count": 28,
      "outputs": [
        {
          "output_type": "stream",
          "name": "stdout",
          "text": [
            "+-----------+-----------+--------------+----------+--------------+--------------------+----------------+------+-------------+-----------+-----------+\n",
            "|marketplace|customer_id|     review_id|product_id|product_parent|       product_title|product_category|rating|helpful_votes|total_votes| prediction|\n",
            "+-----------+-----------+--------------+----------+--------------+--------------------+----------------+------+-------------+-----------+-----------+\n",
            "|         US|      10206| R1ALPEI2SO0D1|B00HNYWFMC|     805852390| Far Cry Compliation|     Video Games|     5|            0|          0|  -0.988089|\n",
            "|         US|      10206| RLQIPPSIW9KQ0|B0053WVBSA|     603885070|Happy Feet Two: T...|     Video Games|     3|            0|          1| -0.5765556|\n",
            "|         US|     312383|R1UOSG99YL2EF9|B00DPXV33M|     950721730|Playstation 3 Bla...|     Video Games|     5|            3|          6| -1.5499941|\n",
            "|         US|     798134| RYJH4YCB8CAF7|B0050SXKU4|     277576962|  Grand Theft Auto V|     Video Games|     5|            0|          0| -2.0277004|\n",
            "|         US|    2180663| RPQ7NZO5RJWQQ|B0069UP2PI|     883772272|    Contagion (2011)|       Video DVD|     5|            0|          0| -1.7847316|\n",
            "|         US|      78925| RAJU42KY1WJLZ|B003ZSP0WW|     339867013|Microsoft Xbox360...|     Video Games|     5|            0|          0|-0.29090753|\n",
            "|         US|     257757| RN132D1GK56XJ|B00EQNP8W2|     232803743|Xbox Live Subscri...|     Video Games|     5|            0|          0|  2.8734336|\n",
            "|         US|     282586|R2BYS4QQ04SO90|B00JUFT1G0|     130647634|Dragon Age Inquis...|     Video Games|     2|            0|          2|   0.369757|\n",
            "|         US|     591469| RDIVV99TVJGIB|B00NB657ZS|     417080633|Skylanders Trap T...|     Video Games|     5|            0|          0| -0.2626788|\n",
            "|         US|    3267195|R10TJK7BR3AZ5V|B00AIBZLVY|     146803947|                Mama|       Video DVD|     5|            0|          1| -0.7719133|\n",
            "+-----------+-----------+--------------+----------+--------------+--------------------+----------------+------+-------------+-----------+-----------+\n",
            "only showing top 10 rows\n",
            "\n"
          ]
        }
      ]
    },
    {
      "cell_type": "code",
      "source": [
        "eval = RegressionEvaluator(metricName=\"rmse\", labelCol=\"rating\", predictionCol='prediction')"
      ],
      "metadata": {
        "id": "kB_wprdzc-48"
      },
      "execution_count": 50,
      "outputs": []
    },
    {
      "cell_type": "markdown",
      "source": [
        "The root mean squared error of the model. This is absolutely awful. Maybe we need to set a threshold for the amount of ratings a user has to have."
      ],
      "metadata": {
        "id": "bFj5T9hLh7Ge"
      }
    },
    {
      "cell_type": "code",
      "source": [
        "rmse = eval.evaluate(pred)\n",
        "print(rmse)"
      ],
      "metadata": {
        "colab": {
          "base_uri": "https://localhost:8080/"
        },
        "id": "c-zpmYvXdUxh",
        "outputId": "ce268813-1dfe-4229-96f5-15113393c10f"
      },
      "execution_count": 51,
      "outputs": [
        {
          "output_type": "stream",
          "name": "stdout",
          "text": [
            "4.578921959143033\n"
          ]
        }
      ]
    },
    {
      "cell_type": "code",
      "source": [
        "user_1 = test.filter(test['customer_id'] == 10206).select(['product_parent', 'customer_id'])"
      ],
      "metadata": {
        "id": "bbmJGs15eNCC"
      },
      "execution_count": 31,
      "outputs": []
    },
    {
      "cell_type": "code",
      "source": [
        "user_1.show()"
      ],
      "metadata": {
        "colab": {
          "base_uri": "https://localhost:8080/"
        },
        "id": "S4Hj5sYBeec4",
        "outputId": "3301481a-8ce8-4eb2-a604-2d2520c5fd01"
      },
      "execution_count": 33,
      "outputs": [
        {
          "output_type": "stream",
          "name": "stdout",
          "text": [
            "+-----------+-----------+-------------+----------+--------------+--------------------+----------------+------+-------------+-----------+\n",
            "|marketplace|customer_id|    review_id|product_id|product_parent|       product_title|product_category|rating|helpful_votes|total_votes|\n",
            "+-----------+-----------+-------------+----------+--------------+--------------------+----------------+------+-------------+-----------+\n",
            "|         US|      10206|R1ALPEI2SO0D1|B00HNYWFMC|     805852390| Far Cry Compliation|     Video Games|     5|            0|          0|\n",
            "|         US|      10206|RLQIPPSIW9KQ0|B0053WVBSA|     603885070|Happy Feet Two: T...|     Video Games|     3|            0|          1|\n",
            "+-----------+-----------+-------------+----------+--------------+--------------------+----------------+------+-------------+-----------+\n",
            "\n"
          ]
        }
      ]
    },
    {
      "cell_type": "code",
      "source": [
        "rec=model.transform(user_1)"
      ],
      "metadata": {
        "id": "qIOcHKcRe4dL"
      },
      "execution_count": 34,
      "outputs": []
    },
    {
      "cell_type": "code",
      "source": [
        "rec.orderBy('prediction', ascending=False).show()"
      ],
      "metadata": {
        "colab": {
          "base_uri": "https://localhost:8080/"
        },
        "id": "fpRlketze-Cn",
        "outputId": "10f605eb-9590-48c5-b22c-9ed6ddab7cae"
      },
      "execution_count": 35,
      "outputs": [
        {
          "output_type": "stream",
          "name": "stdout",
          "text": [
            "+-----------+-----------+-------------+----------+--------------+--------------------+----------------+------+-------------+-----------+----------+\n",
            "|marketplace|customer_id|    review_id|product_id|product_parent|       product_title|product_category|rating|helpful_votes|total_votes|prediction|\n",
            "+-----------+-----------+-------------+----------+--------------+--------------------+----------------+------+-------------+-----------+----------+\n",
            "|         US|      10206|RLQIPPSIW9KQ0|B0053WVBSA|     603885070|Happy Feet Two: T...|     Video Games|     3|            0|          1|-0.5765556|\n",
            "|         US|      10206|R1ALPEI2SO0D1|B00HNYWFMC|     805852390| Far Cry Compliation|     Video Games|     5|            0|          0| -0.988089|\n",
            "+-----------+-----------+-------------+----------+--------------+--------------------+----------------+------+-------------+-----------+----------+\n",
            "\n"
          ]
        }
      ]
    },
    {
      "cell_type": "markdown",
      "source": [
        "From here down is actually making a recommendation. \n",
        "\n",
        "It's taking 3 users and recommending 3 products each to them."
      ],
      "metadata": {
        "id": "XWBK2DcziK8w"
      }
    },
    {
      "cell_type": "code",
      "source": [
        "users = df.select(als.getUserCol()).distinct().limit(3)\n",
        "userSubsetRecs = model.recommendForUserSubset(users, 3)"
      ],
      "metadata": {
        "id": "rB71dZQCfzMe"
      },
      "execution_count": 40,
      "outputs": []
    },
    {
      "cell_type": "code",
      "source": [
        "userSubsetRecs.show()"
      ],
      "metadata": {
        "colab": {
          "base_uri": "https://localhost:8080/"
        },
        "id": "zctT50cKgAFO",
        "outputId": "cd6d6d9d-77b7-4184-af00-953e29cc5749"
      },
      "execution_count": 41,
      "outputs": [
        {
          "output_type": "stream",
          "name": "stdout",
          "text": [
            "+-----------+--------------------+\n",
            "|customer_id|     recommendations|\n",
            "+-----------+--------------------+\n",
            "|   12134452|[{40467685, 2.801...|\n",
            "|   12182893|[{843965595, 5.08...|\n",
            "|   12226553|[{92090520, 4.945...|\n",
            "+-----------+--------------------+\n",
            "\n"
          ]
        }
      ]
    }
  ]
}